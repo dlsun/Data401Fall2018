{
 "cells": [
  {
   "cell_type": "markdown",
   "metadata": {},
   "source": [
    "# Keras in Tensorflow\n",
    "\n",
    "The [documentation for Tensorflow's implementation](https://www.tensorflow.org/guide/keras) of the Keras API is quite good and worth reading from beginning to end."
   ]
  },
  {
   "cell_type": "code",
   "execution_count": 1,
   "metadata": {},
   "outputs": [],
   "source": [
    "import tensorflow as tf\n",
    "from tensorflow.keras import layers"
   ]
  },
  {
   "cell_type": "markdown",
   "metadata": {},
   "source": [
    "Let's read in some data that we can use for training."
   ]
  },
  {
   "cell_type": "code",
   "execution_count": 3,
   "metadata": {},
   "outputs": [],
   "source": [
    "import pandas as pd\n",
    "import numpy as np\n",
    "\n",
    "data = pd.read_csv(\"~/data400_share/2016-election.csv\")\n",
    "x_train = data[[\"at_least_bachelor_s_degree\", \"black\"]].values\n",
    "y_train = data[\"rep16_frac\"].values"
   ]
  },
  {
   "cell_type": "markdown",
   "metadata": {},
   "source": [
    "# Specifying and Training a Model\n",
    "\n",
    "Let's train the following neural network.\n",
    "\n",
    "![](neural_network.png)"
   ]
  },
  {
   "cell_type": "code",
   "execution_count": 6,
   "metadata": {},
   "outputs": [
    {
     "name": "stdout",
     "output_type": "stream",
     "text": [
      "Epoch 1/10\n",
      "3111/3111 [==============================] - 1s 349us/step - loss: 2967.0061\n",
      "Epoch 2/10\n",
      "3111/3111 [==============================] - 1s 291us/step - loss: 263.0927\n",
      "Epoch 3/10\n",
      "3111/3111 [==============================] - 1s 305us/step - loss: 260.5835\n",
      "Epoch 4/10\n",
      "3111/3111 [==============================] - 1s 293us/step - loss: 260.1471\n",
      "Epoch 5/10\n",
      "3111/3111 [==============================] - 1s 303us/step - loss: 260.0495\n",
      "Epoch 6/10\n",
      "3111/3111 [==============================] - 1s 313us/step - loss: 260.9610\n",
      "Epoch 7/10\n",
      "3111/3111 [==============================] - 1s 324us/step - loss: 261.4505\n",
      "Epoch 8/10\n",
      "3111/3111 [==============================] - 1s 290us/step - loss: 260.9637\n",
      "Epoch 9/10\n",
      "3111/3111 [==============================] - 1s 289us/step - loss: 261.4841\n",
      "Epoch 10/10\n",
      "3111/3111 [==============================] - 1s 294us/step - loss: 260.4739\n"
     ]
    },
    {
     "data": {
      "text/plain": [
       "<tensorflow.python.keras.callbacks.History at 0x7fb1ac67c2e8>"
      ]
     },
     "execution_count": 6,
     "metadata": {},
     "output_type": "execute_result"
    }
   ],
   "source": [
    "# specify the model architecture\n",
    "model = tf.keras.Sequential([\n",
    "    layers.Dense(2, activation=\"relu\"),\n",
    "    layers.Dense(1)\n",
    "])\n",
    "\n",
    "# specify the loss function and optimization function\n",
    "model.compile(optimizer=tf.train.GradientDescentOptimizer(0.25),\n",
    "              loss='mse')\n",
    "\n",
    "# fit the model to data\n",
    "model.fit(x_train, y_train, epochs=10, batch_size=5)"
   ]
  },
  {
   "cell_type": "markdown",
   "metadata": {},
   "source": [
    "The `tf.keras.Sequential` assumes that the model is just a sequence of layers, one after the other. Sometimes, you will want different architectures where, for example, different parts of the model might share a layer. You can still do this in Keras by using the [functional API](https://www.tensorflow.org/guide/keras#build_advanced_models). Each `Layer` object can also be called as a function."
   ]
  },
  {
   "cell_type": "code",
   "execution_count": 7,
   "metadata": {},
   "outputs": [
    {
     "name": "stdout",
     "output_type": "stream",
     "text": [
      "Epoch 1/10\n",
      "3111/3111 [==============================] - 1s 385us/step - loss: 272.2178\n",
      "Epoch 2/10\n",
      "3111/3111 [==============================] - 1s 339us/step - loss: 260.5490\n",
      "Epoch 3/10\n",
      "3111/3111 [==============================] - 1s 303us/step - loss: 259.4403\n",
      "Epoch 4/10\n",
      "3111/3111 [==============================] - 1s 307us/step - loss: 261.1272\n",
      "Epoch 5/10\n",
      "3111/3111 [==============================] - 1s 292us/step - loss: 260.1828\n",
      "Epoch 6/10\n",
      "3111/3111 [==============================] - 1s 298us/step - loss: 262.2353\n",
      "Epoch 7/10\n",
      "3111/3111 [==============================] - 1s 301us/step - loss: 260.1575\n",
      "Epoch 8/10\n",
      "3111/3111 [==============================] - 1s 300us/step - loss: 259.8852\n",
      "Epoch 9/10\n",
      "3111/3111 [==============================] - 1s 304us/step - loss: 262.0478\n",
      "Epoch 10/10\n",
      "3111/3111 [==============================] - 1s 305us/step - loss: 257.2018\n"
     ]
    },
    {
     "data": {
      "text/plain": [
       "<tensorflow.python.keras.callbacks.History at 0x7fb19c26ccf8>"
      ]
     },
     "execution_count": 7,
     "metadata": {},
     "output_type": "execute_result"
    }
   ],
   "source": [
    "# specify the model architecture\n",
    "x = layers.Input(shape=(2, ))\n",
    "h1 = layers.Dense(2, activation=\"relu\")(x)\n",
    "y_pred = layers.Dense(1)(h1)\n",
    "\n",
    "model = tf.keras.Model(inputs=x, outputs=y_pred)\n",
    "\n",
    "# specify the loss function and optimization function\n",
    "model.compile(optimizer=tf.train.GradientDescentOptimizer(0.25),\n",
    "              loss='mse')\n",
    "\n",
    "# fit the model to data\n",
    "model.fit(x_train, y_train, epochs=10, batch_size=5)"
   ]
  }
 ],
 "metadata": {
  "kernelspec": {
   "display_name": "Python 3",
   "language": "python",
   "name": "python3"
  },
  "language_info": {
   "codemirror_mode": {
    "name": "ipython",
    "version": 3
   },
   "file_extension": ".py",
   "mimetype": "text/x-python",
   "name": "python",
   "nbconvert_exporter": "python",
   "pygments_lexer": "ipython3",
   "version": "3.6.5"
  }
 },
 "nbformat": 4,
 "nbformat_minor": 2
}
