{
 "cells": [
  {
   "cell_type": "markdown",
   "metadata": {},
   "source": [
    "# Introduction to Tensorflow\n",
    "\n",
    "[Tensorflow](https://www.tensorflow.org]) is an open-source library for numerical computations on graphs. It can be used to specify and to train deep neural networks."
   ]
  },
  {
   "cell_type": "code",
   "execution_count": null,
   "metadata": {},
   "outputs": [],
   "source": [
    "import tensorflow as tf"
   ]
  },
  {
   "cell_type": "markdown",
   "metadata": {},
   "source": [
    "# Specifying the Computational Graph\n",
    "\n",
    "Let's set up the graph for the following neural network.\n",
    "\n",
    "![](neural_network.png)"
   ]
  },
  {
   "cell_type": "code",
   "execution_count": null,
   "metadata": {},
   "outputs": [],
   "source": [
    "# Define a placeholder for the inputs\n",
    "x = tf.placeholder(tf.float32, shape=(None, 2))\n",
    "\n",
    "# First hidden layer\n",
    "w1 = tf.constant(\n",
    "    [[-1., 1.], \n",
    "     [ 2., 0.]]\n",
    ")\n",
    "b1 = tf.constant([0., 0.])\n",
    "h1 = tf.nn.relu(tf.matmul(x, w1) + b1)\n",
    "\n",
    "# Output layer\n",
    "w2 = tf.constant(\n",
    "    [[1.],\n",
    "     [-1.]]\n",
    ")\n",
    "b2 = tf.constant(0.)\n",
    "y_pred = tf.matmul(h1, w2) + b2\n",
    "\n",
    "y_pred"
   ]
  },
  {
   "cell_type": "markdown",
   "metadata": {},
   "source": [
    "In Tensorflow, the graph is only evaluated when we call `tf.Session.run()`. We can look at the value of any node in the graph. We have to be sure to specify any `tf.placeholder` values in the graph, using the `feed_dict=` argument."
   ]
  },
  {
   "cell_type": "code",
   "execution_count": null,
   "metadata": {},
   "outputs": [],
   "source": [
    "with tf.Session() as sess:\n",
    "    print(sess.run(y_pred, feed_dict={\n",
    "        x: [[-1., 1.], \n",
    "            [ 1., 2.],\n",
    "            [ 0., 1.]]\n",
    "    }))"
   ]
  },
  {
   "cell_type": "markdown",
   "metadata": {},
   "source": [
    "To make the neural network trainable, we need to turn the weights and biases into `tf.Variable` objects."
   ]
  },
  {
   "cell_type": "code",
   "execution_count": null,
   "metadata": {},
   "outputs": [],
   "source": [
    "# Define a placeholder for the inputs\n",
    "x = tf.placeholder(tf.float32, shape=(None, 2))\n",
    "\n",
    "# First hidden layer\n",
    "w1 = tf.Variable(\n",
    "    [[-1., 1.], \n",
    "     [ 2., 0.]]\n",
    ")\n",
    "b1 = tf.Variable(tf.zeros(2))\n",
    "h1 = tf.nn.relu(tf.matmul(x, w1) + b1)\n",
    "\n",
    "# Output layer\n",
    "w2 = tf.Variable(\n",
    "    [[1.],\n",
    "     [-1.]]\n",
    ")\n",
    "b2 = tf.Variable(0.)\n",
    "y_pred = tf.matmul(h1, w2) + b2\n",
    "\n",
    "w1"
   ]
  },
  {
   "cell_type": "code",
   "execution_count": null,
   "metadata": {},
   "outputs": [],
   "source": [
    "with tf.Session() as sess:\n",
    "    # With tf.Variables, we need to explicitly initialize them\n",
    "    # within a session.\n",
    "    sess.run(tf.global_variables_initializer())\n",
    "    print(sess.run(y_pred, feed_dict={\n",
    "        x: [[-1., 1.], \n",
    "            [ 1., 2.],\n",
    "            [ 0., 1.]]\n",
    "    }))"
   ]
  },
  {
   "cell_type": "markdown",
   "metadata": {},
   "source": [
    "# Training the Network\n",
    "\n",
    "To train a network, we also need the true labels and a loss function that measures the discrepancy between the predicted and true labels."
   ]
  },
  {
   "cell_type": "code",
   "execution_count": null,
   "metadata": {},
   "outputs": [],
   "source": [
    "y_true = tf.placeholder(tf.float32, shape=None)\n",
    "loss = tf.reduce_mean((y_pred - y_true) ** 2)"
   ]
  },
  {
   "cell_type": "markdown",
   "metadata": {},
   "source": [
    "Now we need a way to optimize this loss function. Let's use gradient descent with a learning rate of $\\eta = 0.25$."
   ]
  },
  {
   "cell_type": "code",
   "execution_count": null,
   "metadata": {},
   "outputs": [],
   "source": [
    "optimizer = tf.train.GradientDescentOptimizer(learning_rate=0.25)\n",
    "train = optimizer.minimize(loss)"
   ]
  },
  {
   "cell_type": "code",
   "execution_count": null,
   "metadata": {},
   "outputs": [],
   "source": [
    "with tf.Session() as sess:\n",
    "    sess.run(tf.global_variables_initializer())\n",
    "    \n",
    "    # To force the model to train, we pass `train` to sess.run().\n",
    "    # We also pass `loss` to sess.run() so that we can see the loss.\n",
    "    print(sess.run((train, loss), feed_dict={\n",
    "        x: [[-1., 1.]],\n",
    "        y_true: 1\n",
    "    }))\n",
    "    \n",
    "    # The weights should now be updated.\n",
    "    print(sess.run(w2))\n",
    "    \n",
    "    # TODO: Predict the output for x = (1, 1) using the current weights.\n",
    "    "
   ]
  },
  {
   "cell_type": "markdown",
   "metadata": {},
   "source": [
    "# Feeding in Data\n",
    "\n",
    "So far, we have used `tf.placeholder` and `feed_dict=` to pass data into the model. This still works with real data."
   ]
  },
  {
   "cell_type": "code",
   "execution_count": null,
   "metadata": {},
   "outputs": [],
   "source": [
    "import pandas as pd\n",
    "import numpy as np\n",
    "\n",
    "data = pd.read_csv(\"~/data400_share/2016-election.csv\")\n",
    "x_train = data[[\"at_least_bachelor_s_degree\", \"black\"]].values\n",
    "y_train = data[\"rep16_frac\"].values"
   ]
  },
  {
   "cell_type": "code",
   "execution_count": null,
   "metadata": {},
   "outputs": [],
   "source": [
    "with tf.Session() as sess:\n",
    "    sess.run(tf.global_variables_initializer())\n",
    "    \n",
    "    # To force the model to train, we pass `train` to sess.run().\n",
    "    # We also pass `loss` to sess.run() so that we can see the loss.\n",
    "    print(sess.run((train, loss), feed_dict={\n",
    "        x: x_train.astype(np.float32),\n",
    "        y_true: y_train.astype(np.float32)\n",
    "    }))"
   ]
  },
  {
   "cell_type": "markdown",
   "metadata": {},
   "source": [
    "**Exercise:** Can you rewrite the above code to make Tensorflow process one observation at a time, instead of all of the observations at once? What about a batch of 5 observations?"
   ]
  },
  {
   "cell_type": "code",
   "execution_count": null,
   "metadata": {},
   "outputs": [],
   "source": [
    "# YOUR CODE HERE"
   ]
  },
  {
   "cell_type": "markdown",
   "metadata": {},
   "source": [
    "There are [more sophisticated ways to feed data into a Tensorflow graph](https://www.tensorflow.org/guide/datasets).\n",
    "\n",
    "- You can create an iterator object out of a Numpy array in memory using `tf.data.Dataset.from_tensor_slices()`.\n",
    "- If your data set is really large, it is recommend that you convert your data to `TFRecord` format and load the data into a `TFRecordDataset` object."
   ]
  }
 ],
 "metadata": {
  "kernelspec": {
   "display_name": "Python 3",
   "language": "python",
   "name": "python3"
  },
  "language_info": {
   "codemirror_mode": {
    "name": "ipython",
    "version": 3
   },
   "file_extension": ".py",
   "mimetype": "text/x-python",
   "name": "python",
   "nbconvert_exporter": "python",
   "pygments_lexer": "ipython3",
   "version": "3.6.5"
  }
 },
 "nbformat": 4,
 "nbformat_minor": 2
}
