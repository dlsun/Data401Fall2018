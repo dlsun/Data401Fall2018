{
 "cells": [
  {
   "cell_type": "markdown",
   "metadata": {},
   "source": [
    "# Assignment 2\n",
    "\n",
    "## Printed copy due in class on October 15, 2018\n",
    "\n",
    "You may work in pairs on this assignment. You are not permitted to discuss this assignment with anyone other than your partner or the instructors.\n",
    "\n",
    "## Student 1:\n",
    "## Student 2:"
   ]
  },
  {
   "cell_type": "markdown",
   "metadata": {},
   "source": [
    "## Question 1: Maximum Likelihood\n",
    "\n",
    "The Weibull distribution is widely used to model failure times. Its p.d.f. is \n",
    "\n",
    "$$ p(x) = \\frac{\\beta}{\\alpha} \\left( \\frac{x}{\\alpha} \\right)^{\\beta - 1} e^{-\\left(\\frac{x}{\\alpha}\\right)^\\beta}. $$\n",
    "\n",
    "The data in `/data400/test_coupons_failure.csv` contain the cycles to failure of aluminum test coupons subjected to repeated alternating stress of 15,000 psi at 20 cycles per second. In this question, you will use the Weibull distribution to model this data.\n",
    "\n",
    "For some parts, you will be able to calculate the maximum likelihood analytically (i.e., by taking the derivative and setting it equal to 0). You should show your work in this case. (I encourage you to typeset math equations using LaTeX. The p.d.f. above was typeset using LaTeX, for example.) For others, you will calculate the maximum likelihood numerically. You should show your code in this case."
   ]
  },
  {
   "cell_type": "code",
   "execution_count": 2,
   "metadata": {},
   "outputs": [],
   "source": [
    "import numpy as np\n",
    "import pandas as pd\n",
    "cycles = pd.read_csv(\"/data400/test_coupons_failure.csv\")[\"cycles\"]\n",
    "cycles\n",
    "\n",
    "def weibull_neg_log_likelihood(alpha, beta):\n",
    "    x = cycles.copy()\n",
    "    n = len(cycles)\n",
    "    return -(\n",
    "        n * (np.log(beta) - np.log(alpha)) +\n",
    "        (beta - 1) * np.sum(np.log(x / alpha)) -\n",
    "        np.sum((x / alpha) ** beta)\n",
    "    )"
   ]
  },
  {
   "cell_type": "markdown",
   "metadata": {},
   "source": [
    "### Part A. Unknown $\\alpha$\n",
    "\n",
    "Suppose you want to model the distribution by a Weibull where $\\beta=2.0$. Find the maximum likelihood estimate (MLE) of $\\alpha$."
   ]
  },
  {
   "cell_type": "code",
   "execution_count": 7,
   "metadata": {},
   "outputs": [],
   "source": [
    "# YOUR WORK HERE\n",
    "from scipy.optimize import minimize\n",
    "\n",
    "mle_a = minimize(\n",
    "    lambda alpha: weibull_neg_log_likelihood(alpha, beta=2.0),\n",
    "    x0=[1]\n",
    ").x"
   ]
  },
  {
   "cell_type": "markdown",
   "metadata": {},
   "source": [
    "### Part B. Unknown $\\beta$\n",
    "\n",
    "Suppose you want to model the distribution by a Weibull where $\\alpha=8000$. Find the MLE of $\\beta$."
   ]
  },
  {
   "cell_type": "code",
   "execution_count": 11,
   "metadata": {},
   "outputs": [],
   "source": [
    "# YOUR WORK HERE\n",
    "mle_b = minimize(\n",
    "    lambda beta: weibull_neg_log_likelihood(8000, beta),\n",
    "    x0=[1]\n",
    ").x"
   ]
  },
  {
   "cell_type": "markdown",
   "metadata": {},
   "source": [
    "### Part C. Unknown $\\alpha$ and $\\beta$\n",
    "\n",
    "Suppose you are unsure what either $\\alpha$ or $\\beta$ should be, so you would like to learn both parameters from data. Find the MLE of $(\\alpha, \\beta)$."
   ]
  },
  {
   "cell_type": "code",
   "execution_count": 14,
   "metadata": {},
   "outputs": [],
   "source": [
    "# YOUR WORK HERE\n",
    "mle_c = minimize(\n",
    "    lambda params: weibull_neg_log_likelihood(*params),\n",
    "    x0=[8000, 2]\n",
    ").x"
   ]
  },
  {
   "cell_type": "markdown",
   "metadata": {},
   "source": [
    "### Part D. Plot your results\n",
    "\n",
    "Make a histogram of the coupon cycles data. You learned three different Weibull distributions in Parts A-C above. Show the p.d.f.s of these three distributions on top of the histograms. Which p.d.f. seems to fit the data the best?"
   ]
  },
  {
   "cell_type": "code",
   "execution_count": 15,
   "metadata": {},
   "outputs": [],
   "source": [
    "import matplotlib.pyplot as plt\n",
    "%matplotlib inline"
   ]
  },
  {
   "cell_type": "code",
   "execution_count": 25,
   "metadata": {},
   "outputs": [
    {
     "data": {
      "text/plain": [
       "<matplotlib.legend.Legend at 0x7f066d855048>"
      ]
     },
     "execution_count": 25,
     "metadata": {},
     "output_type": "execute_result"
    },
    {
     "data": {
      "image/png": "[encoded data removed]",
      "text/plain": [
       "<Figure size 432x288 with 1 Axes>"
      ]
     },
     "metadata": {},
     "output_type": "display_data"
    }
   ],
   "source": [
    "# YOUR WORK HERE\n",
    "def weibull_pdf(x, alpha, beta):\n",
    "    return (beta / alpha) * ((x / alpha) ** (beta - 1)) * np.exp(-(x / alpha) ** beta)\n",
    "\n",
    "plt.hist(cycles, bins=30, density=True);\n",
    "xs = np.arange(25000)\n",
    "\n",
    "# PART A\n",
    "ps = [weibull_pdf(x, mle_a[0], 2.0) for x in xs]\n",
    "plt.plot(xs, ps, 'r-')\n",
    "\n",
    "# PART B\n",
    "ps = [weibull_pdf(x, 8000, mle_b[0]) for x in xs]\n",
    "plt.plot(xs, ps, 'g-')\n",
    "\n",
    "# PART C\n",
    "ps = [weibull_pdf(x, mle_c[0], mle_c[1]) for x in xs]\n",
    "plt.plot(xs, ps, 'y-')\n",
    "\n",
    "plt.legend([\"Part A\", \"Part B\", \"Part C\"])"
   ]
  },
  {
   "cell_type": "markdown",
   "metadata": {},
   "source": []
  },
  {
   "cell_type": "markdown",
   "metadata": {},
   "source": [
    "## Question 2: Simple Linear Regression with Intercept\n",
    "\n",
    "In this class, you will explore the simple linear regression model (with intercept). That is, we assume that the labels $Y_i$ are independently generated according to \n",
    "$$Y_i = \\beta_0 + \\beta_1 x_i + \\epsilon_i,$$\n",
    "\n",
    "where the feature $x_i$ is assumed to be fixed and $\\epsilon_i$ is $\\textrm{Normal}(0, \\sigma^2)$. \n",
    "\n",
    "In other words, we assume that the distribution of $Y_i$ is $\\text{Normal}(\\beta_0 + \\beta_1 x_i, \\sigma^2)$, and $Y_1, ..., Y_n$ are independent (but not identically distributed)."
   ]
  },
  {
   "cell_type": "markdown",
   "metadata": {},
   "source": [
    "### Part A. Deriving the MLE from Scratch\n",
    "\n",
    "Use calculus to find $\\hat\\beta_0$, $\\hat\\beta_1$, and $\\hat\\sigma^2$ (the MLEs of $\\beta_0$, $\\beta_1$, and $\\sigma^2$) in terms of $(x_1, Y_1), ..., (x_n, Y_n)$."
   ]
  },
  {
   "cell_type": "code",
   "execution_count": null,
   "metadata": {},
   "outputs": [],
   "source": [
    "# YOUR WORK HERE"
   ]
  },
  {
   "cell_type": "markdown",
   "metadata": {},
   "source": [
    "### Part B. Deriving the MLE from the Multiple Regression Formula\n",
    "\n",
    "In class, we showed that for multiple linear regression, the _vector_ $\\hat\\beta$ of estimated coefficients is given by the formula\n",
    "$$\\hat\\beta = (X^T X)^{-1} X^T {\\bf y},$$\n",
    "where $X$ is an $n \\times d$ matrix of features and ${\\bf y}$ is a length-$n$ vector of labels.\n",
    "\n",
    "By constructing a suitable matrix $X$ for simple linear regression, re-derive the simple linear regression estimates $\\hat\\beta_0$ and $\\hat\\beta_1$ using the multiple regression formula above."
   ]
  },
  {
   "cell_type": "code",
   "execution_count": null,
   "metadata": {},
   "outputs": [],
   "source": [
    "# YOUR WORK HERE"
   ]
  },
  {
   "cell_type": "markdown",
   "metadata": {},
   "source": [
    "## Submission Instructions\n",
    "\n",
    "Once you are finished with this assignment, please export this notebook to PDF. You can do this by going to `File > Export Notebook As > PDF`. If this does not work, try exporting to HTML and then printing the resulting webpage to PDF. Print out the PDF and submit a paper copy of this assignment."
   ]
  }
 ],
 "metadata": {
  "kernelspec": {
   "display_name": "Python 3",
   "language": "python",
   "name": "python3"
  },
  "language_info": {
   "codemirror_mode": {
    "name": "ipython",
    "version": 3
   },
   "file_extension": ".py",
   "mimetype": "text/x-python",
   "name": "python",
   "nbconvert_exporter": "python",
   "pygments_lexer": "ipython3",
   "version": "3.6.5"
  }
 },
 "nbformat": 4,
 "nbformat_minor": 2
}
