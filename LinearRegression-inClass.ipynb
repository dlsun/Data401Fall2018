{
 "cells": [
  {
   "cell_type": "markdown",
   "metadata": {},
   "source": [
    "**Multivariate Linear Regression**"
   ]
  },
  {
   "cell_type": "code",
   "execution_count": 2,
   "metadata": {},
   "outputs": [],
   "source": [
    "import numpy as np\n"
   ]
  },
  {
   "cell_type": "code",
   "execution_count": 3,
   "metadata": {},
   "outputs": [],
   "source": [
    "## dataset generator\n",
    "\n",
    "def genData(nPoints, d):\n",
    "    \n",
    "    ## nPoints = number of points\n",
    "    ## d = number of dimensions\n",
    "    \n",
    "    betas = np.random.uniform(-10,10, d+1)\n",
    "    sigmaSquared = np.random.uniform(0, 10)\n",
    "\n",
    "    X = []\n",
    "    y = []\n",
    "    for i in range(nPoints):\n",
    "        x = np.random.uniform(-100,100,d+1)\n",
    "        x[0]=1\n",
    "        X.append(x)\n",
    "        val = np.dot(betas,np.array(x))  + np.random.normal(0,sigmaSquared)\n",
    "        y.append(val)\n",
    "    X = np.array(X)\n",
    "    y = np.array(y)\n",
    "    print(betas)\n",
    "    return X,y\n"
   ]
  },
  {
   "cell_type": "markdown",
   "metadata": {},
   "source": [
    "** Linear Regression: Version 1 **\n",
    "Use the closed-form solution for multivariate linear regression to find the coefficients\n"
   ]
  },
  {
   "cell_type": "code",
   "execution_count": 4,
   "metadata": {},
   "outputs": [
    {
     "name": "stdout",
     "output_type": "stream",
     "text": [
      "[ 2.44090082 -2.14039559 -9.52417063 -5.92120863  2.48930533]\n"
     ]
    }
   ],
   "source": [
    "nPts = 200\n",
    "dim = 4\n",
    "\n",
    "X,y =  genData(nPts, dim)"
   ]
  },
  {
   "cell_type": "code",
   "execution_count": 5,
   "metadata": {},
   "outputs": [],
   "source": [
    "### Let's find the coefficients using the closed solution formula\n",
    "##  beta = (X^T X)^-1 X^T y\n",
    "\n",
    "### betaHat = "
   ]
  },
  {
   "cell_type": "code",
   "execution_count": 6,
   "metadata": {},
   "outputs": [
    {
     "data": {
      "text/plain": [
       "array([ 3.3483254 , -2.1431617 , -9.53466265, -5.90281339,  2.49442874])"
      ]
     },
     "execution_count": 6,
     "metadata": {},
     "output_type": "execute_result"
    }
   ],
   "source": [
    "betaHat\n"
   ]
  },
  {
   "cell_type": "markdown",
   "metadata": {},
   "source": [
    "** Linear Regression: Version 2** \n",
    "\n",
    "Use NumPy system of linear equations solver"
   ]
  },
  {
   "cell_type": "code",
   "execution_count": 60,
   "metadata": {},
   "outputs": [],
   "source": [
    "### Matrix\n",
    "\n",
    "## Mx = \n",
    "\n",
    "## Vector\n",
    "\n",
    "# v = \n",
    "\n",
    "## use the solver\n",
    "\n",
    "# betaHat1 = \n"
   ]
  },
  {
   "cell_type": "code",
   "execution_count": 61,
   "metadata": {},
   "outputs": [
    {
     "data": {
      "text/plain": [
       "array([ 0.10701503, -3.06611462, -0.3891284 ,  0.59977734,  2.35812711])"
      ]
     },
     "execution_count": 61,
     "metadata": {},
     "output_type": "execute_result"
    }
   ],
   "source": [
    "betaHat1"
   ]
  },
  {
   "cell_type": "markdown",
   "metadata": {},
   "source": [
    "** Linear Regression: Version 3 **\n",
    "\n",
    "Iterative "
   ]
  }
 ],
 "metadata": {
  "kernelspec": {
   "display_name": "Python 3",
   "language": "python",
   "name": "python3"
  },
  "language_info": {
   "codemirror_mode": {
    "name": "ipython",
    "version": 3
   },
   "file_extension": ".py",
   "mimetype": "text/x-python",
   "name": "python",
   "nbconvert_exporter": "python",
   "pygments_lexer": "ipython3",
   "version": "3.6.5"
  }
 },
 "nbformat": 4,
 "nbformat_minor": 2
}
