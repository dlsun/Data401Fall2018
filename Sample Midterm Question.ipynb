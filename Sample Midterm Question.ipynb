{
 "cells": [
  {
   "cell_type": "markdown",
   "metadata": {},
   "source": [
    "# Sample Midterm Question\n",
    "\n",
    "On the midterm, there will be one question on maximum likelihood estimation (similar to Question 1 on Assignment 2) and one question on linear regression, which will require you to derive and to implement. Here is an example of a linear regression question. You should be able to solve this problem using techniques we learned in this class, even though you have not seen this specific example."
   ]
  },
  {
   "cell_type": "markdown",
   "metadata": {},
   "source": [
    "## Introduction\n",
    "\n",
    "_Ridge regression_ is a technique for fitting linear models of the form \n",
    "\n",
    "$$ f({\\bf x}) = {\\bf x}^T \\beta $$\n",
    "\n",
    "However, instead of choosing $\\beta$ to minimize just the sum of squared errors, we include a penalty for the size of the coefficients. This penalty is proportional to the sum of the _squared_ coefficients. In other words, the ridge coefficient is defined to be \n",
    "\n",
    "$$ \\hat\\beta_{\\text{ridge}} \\overset{\\text{def}}{=} \\underset{\\beta}{\\text{argmin}}\\ \\sum_{i=1}^n (y_i - {\\bf x}_i^T \\beta)^2 + \\lambda \\sum_{j=1}^d \\beta_j^2$$\n",
    "\n",
    "There is one hyperparameter, $\\lambda > 0$, which controls the strength of the penalty.\n",
    "\n",
    "## Part A\n",
    "\n",
    "Without doing any calculations, explain intuitively how the ridge regression coefficients $\\hat\\beta_{\\text{ridge}}$ will compare to the ordinary linear regression coefficients $\\hat\\beta$."
   ]
  },
  {
   "cell_type": "markdown",
   "metadata": {},
   "source": [
    "YOUR ANSWER HERE\n",
    "\n",
    ".\n",
    "\n",
    ".\n",
    "\n",
    ".\n",
    "\n",
    ".\n",
    "\n",
    ".\n",
    "\n",
    ".\n",
    "\n",
    ".\n",
    "\n",
    ".\n",
    "\n",
    ".\n"
   ]
  },
  {
   "cell_type": "markdown",
   "metadata": {},
   "source": [
    "## Part B\n",
    "\n",
    "Derive the following explicit formula for the ridge regression coefficients:\n",
    "\n",
    "$$ \\hat\\beta_{\\text{ridge}} = (X^T X + \\lambda \\cdot I_{d\\times d})^{-1} X^T {\\bf y}$$\n",
    "\n",
    "where $I_{d\\times d}$ is a $d \\times d$ identity matrix."
   ]
  },
  {
   "cell_type": "markdown",
   "metadata": {},
   "source": [
    "YOUR ANSWER HERE\n",
    "\n",
    ".\n",
    "\n",
    ".\n",
    "\n",
    ".\n",
    "\n",
    ".\n",
    "\n",
    ".\n",
    "\n",
    ".\n",
    "\n",
    ".\n",
    "\n",
    ".\n",
    "\n",
    ".\n",
    "\n",
    ".\n",
    "\n",
    ".\n",
    "\n",
    ".\n",
    "\n",
    ".\n",
    "\n",
    ".\n",
    "\n",
    ".\n",
    "\n",
    ".\n",
    "\n",
    ".\n",
    "\n",
    ".\n",
    "\n",
    ".\n",
    "\n",
    ".\n",
    "\n",
    ".\n",
    "\n",
    ".\n",
    "\n",
    ".\n",
    "\n",
    ".\n",
    "\n",
    ".\n",
    "\n",
    ".\n",
    "\n",
    ".\n"
   ]
  },
  {
   "cell_type": "markdown",
   "metadata": {},
   "source": [
    "## Part C\n",
    "\n",
    "The diabetes data set (`~/data400_share/diabetes.data`) consists of observations on 442 patients, with the response of interest (`Y`) being a quantitative measure of disease progression one year after baseline. There are ten baseline variables---age, sex, body-mass index, average blood pressure, and six blood serum measurements.\n",
    "\n",
    "First, standardize all of the variables (including the response variable) to have mean 0 and standard deviation 1.\n",
    "\n",
    "Then, fit ridge regression to the data for a grid of $\\lambda$ values ranging from 0 to 1000. Make a plot showing each coefficient as a function of $\\lambda$. (In other words, you should have a single plot with ten curves, showing how the coefficient of each variable changes as $\\lambda$ increases.)"
   ]
  },
  {
   "cell_type": "code",
   "execution_count": null,
   "metadata": {},
   "outputs": [],
   "source": [
    "import pandas as pd\n",
    "data = pd.read_csv(\"~/data400_share/diabetes.data\", sep=\"\\t\")\n",
    "data.head()"
   ]
  },
  {
   "cell_type": "code",
   "execution_count": null,
   "metadata": {},
   "outputs": [],
   "source": [
    "# YOUR CODE HERE"
   ]
  }
 ],
 "metadata": {
  "kernelspec": {
   "display_name": "Python 3",
   "language": "python",
   "name": "python3"
  },
  "language_info": {
   "codemirror_mode": {
    "name": "ipython",
    "version": 3
   },
   "file_extension": ".py",
   "mimetype": "text/x-python",
   "name": "python",
   "nbconvert_exporter": "python",
   "pygments_lexer": "ipython3",
   "version": "3.6.5"
  }
 },
 "nbformat": 4,
 "nbformat_minor": 2
}
