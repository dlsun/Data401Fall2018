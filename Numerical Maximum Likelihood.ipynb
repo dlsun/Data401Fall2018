{
 "cells": [
  {
   "cell_type": "markdown",
   "metadata": {},
   "source": [
    "# Numerical Maximum Likelihood\n",
    "\n",
    "## Worked Example: Poisson\n",
    "\n",
    "If $Y$ is a count variable, then it is common to use a Poisson distribution to model $Y$, which has p.m.f.\n",
    "\n",
    "$$ P(Y = y) = e^{-\\lambda}\\frac{\\lambda^y}{y!}. $$\n",
    "\n",
    "Suppose we use the Poisson distribution to model the number of fish that are caught in a certain pond in a day. Yesterday, 4 fish were caught in the pond. What is the MLE of $\\lambda$?\n",
    "\n",
    "It is not hard to show using calculus that $\\hat\\lambda = 4$. But let's see how we might do this on a computer."
   ]
  },
  {
   "cell_type": "code",
   "execution_count": null,
   "metadata": {},
   "outputs": [],
   "source": [
    "import numpy as np\n",
    "from scipy.optimize import minimize\n",
    "import matplotlib.pyplot as plt\n",
    "%matplotlib inline"
   ]
  },
  {
   "cell_type": "markdown",
   "metadata": {},
   "source": [
    "The `scipy` package has a `minimize` function that takes in a function and an initial guess---and returns the minimum. But we want to _maximize_ the likelihood, not minimize it.\n",
    "\n",
    "In general, we can find the value $x$ that _maximizes_ a function $f(x)$, by finding the value $x$ that _minimizes_ $-f(x)$. So we will ask `scipy` to minimize the _negative_ likelihood."
   ]
  },
  {
   "cell_type": "code",
   "execution_count": null,
   "metadata": {},
   "outputs": [],
   "source": [
    "# Define the negative likelihood\n",
    "def neg_likelihood(lam):\n",
    "    return - np.exp(-lam) * (lam ** 4) / np.math.factorial(4)\n",
    "\n",
    "# Plot the negative likelihood\n",
    "lams = np.arange(.1, 15, step=.1)\n",
    "plt.plot(lams, neg_likelihood(lams))\n",
    "\n",
    "# Find the minimizer (with initial guess $\\hat\\lambda_0 = 1$)\n",
    "minimize(neg_likelihood, 1)"
   ]
  },
  {
   "cell_type": "markdown",
   "metadata": {},
   "source": [
    "Notice how the likelihood becomes quite flat in the tails. This can cause problems if you get the initial guess wrong. For example, if we had chosen our initial guess to be $\\hat\\lambda_0 = 15$, `scipy` would have failed to find the minimum."
   ]
  },
  {
   "cell_type": "code",
   "execution_count": null,
   "metadata": {},
   "outputs": [],
   "source": [
    "minimize(neg_likelihood, 15)"
   ]
  },
  {
   "cell_type": "markdown",
   "metadata": {},
   "source": [
    "The log-likelihood doesn't have this problem. It is only flat at the true maximum, making the maximum easier to find. So the log-likelihood is not just convenient when your are computing MLEs by hand; it also makes it easier to find MLEs numerically on a computer."
   ]
  },
  {
   "cell_type": "code",
   "execution_count": null,
   "metadata": {},
   "outputs": [],
   "source": [
    "# Define the negative log likelihood\n",
    "def neg_log_likelihood(lam):\n",
    "    return -(-lam + 4 * np.log(lam) - np.log(np.math.factorial(4)))\n",
    "\n",
    "# Plot the negative log likelihood\n",
    "lams = np.arange(.1, 15, step=.1)\n",
    "plt.plot(lams, neg_log_likelihood(lams))\n",
    "\n",
    "# Find the minimizer\n",
    "minimize(neg_log_likelihood, 15)"
   ]
  },
  {
   "cell_type": "markdown",
   "metadata": {},
   "source": [
    "## You Try It: Zero-Truncated Poisson\n",
    "\n",
    "In many applications, we only observe $Y$ if $Y > 0$. For example, if no fish are caught on a particular day, we might not even think to record 0. In these situations, $Y$ is typically modeled using a zero-truncated Poisson distribution, which has p.m.f.\n",
    "\n",
    "$$ P\\left(Y = y\\ \\big|\\ Y > 0\\right) = \\frac{\\lambda^y}{(e^{\\lambda} - 1) y!}. $$\n",
    "\n",
    "Suppose we use the zero-truncated Poisson distribution to model the number of fish that are caught in a certain pond in a day. Yesterday, 4 fish were caught in the pond. What is the MLE of $\\lambda$?\n",
    "\n",
    "This is an example of an MLE that is difficult to compute by hand, but still easy to do by computer. Give it a shot."
   ]
  },
  {
   "cell_type": "code",
   "execution_count": null,
   "metadata": {},
   "outputs": [],
   "source": [
    "# YOUR CODE HERE"
   ]
  }
 ],
 "metadata": {
  "kernelspec": {
   "display_name": "Python 3",
   "language": "python",
   "name": "python3"
  },
  "language_info": {
   "codemirror_mode": {
    "name": "ipython",
    "version": 3
   },
   "file_extension": ".py",
   "mimetype": "text/x-python",
   "name": "python",
   "nbconvert_exporter": "python",
   "pygments_lexer": "ipython3",
   "version": "3.6.5"
  }
 },
 "nbformat": 4,
 "nbformat_minor": 2
}
